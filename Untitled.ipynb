{
 "cells": [
  {
   "cell_type": "markdown",
   "metadata": {},
   "source": [
    "Guide from http://karpathy.github.io/neuralnets/"
   ]
  },
  {
   "cell_type": "code",
   "execution_count": 12,
   "metadata": {
    "collapsed": true
   },
   "outputs": [],
   "source": [
    "from decimal import Decimal\n",
    "import random\n",
    "def forwardMultiplyGate(x, y):\n",
    "    return x * y\n",
    "def forwardAddGate(a, b):\n",
    "    return a + b\n",
    "def forwardCircut(x, y, z):\n",
    "    q = forwardAddGate(x, y)\n",
    "    f = forwardMultipleGate(q, z)\n",
    "    return f"
   ]
  },
  {
   "cell_type": "code",
   "execution_count": 13,
   "metadata": {
    "collapsed": true
   },
   "outputs": [],
   "source": [
    "x = -2\n",
    "y = 3"
   ]
  },
  {
   "cell_type": "code",
   "execution_count": 16,
   "metadata": {
    "collapsed": false
   },
   "outputs": [
    {
     "name": "stdout",
     "output_type": "stream",
     "text": [
      "-1.9990014973767172 2.999060303799716\n"
     ]
    }
   ],
   "source": [
    "tweak_amount = .001\n",
    "best_out = Decimal('-Infinity')\n",
    "best_x  = x,\n",
    "best_y = y\n",
    "for i in range(100):\n",
    "    x_try = x + tweak_amount * (random.random() * 2 - 1)\n",
    "    y_try = y + tweak_amount * (random.random() * 2 - 1)\n",
    "    out = forwardMultiplyGate(x_try, y_try)\n",
    "    if out > best_out:\n",
    "        best_out = out\n",
    "        best_x = x_try\n",
    "        best_y = y_try\n",
    "\n",
    "print(best_x, best_y)"
   ]
  },
  {
   "cell_type": "code",
   "execution_count": 15,
   "metadata": {
    "collapsed": false
   },
   "outputs": [
    {
     "name": "stdout",
     "output_type": "stream",
     "text": [
      "-5.9997\n",
      "-6.0002\n"
     ]
    }
   ],
   "source": [
    "x = -2\n",
    "y = 3\n",
    "out = forwardMultiplyGate(x,y)\n",
    "h = 0.0001\n",
    "\n",
    "xph = x + h\n",
    "out2 = forwardMultiplyGate(xph, y)\n",
    "x_derivative = (out2 - out) / h\n",
    "\n",
    "yph = y + h\n",
    "out3 = forwardMultiplyGate(x, yph)\n",
    "y_derivative = (out3 - out) / h\n",
    "\n",
    "print(out2)\n",
    "print(out3)"
   ]
  },
  {
   "cell_type": "code",
   "execution_count": null,
   "metadata": {
    "collapsed": true
   },
   "outputs": [],
   "source": []
  }
 ],
 "metadata": {
  "kernelspec": {
   "display_name": "Python 3",
   "language": "python",
   "name": "python3"
  },
  "language_info": {
   "codemirror_mode": {
    "name": "ipython",
    "version": 3
   },
   "file_extension": ".py",
   "mimetype": "text/x-python",
   "name": "python",
   "nbconvert_exporter": "python",
   "pygments_lexer": "ipython3",
   "version": "3.6.0"
  }
 },
 "nbformat": 4,
 "nbformat_minor": 2
}
